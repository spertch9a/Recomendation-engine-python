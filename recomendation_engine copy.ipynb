{
  "nbformat": 4,
  "nbformat_minor": 0,
  "metadata": {
    "colab": {
      "name": "recomendation engine.ipynb",
      "provenance": [],
      "collapsed_sections": []
    },
    "kernelspec": {
      "name": "python3",
      "display_name": "Python 3"
    }
  },
  "cells": [
    {
      "cell_type": "code",
      "metadata": {
        "id": "eKrsVcLQDX5Z",
        "outputId": "d45ed5f4-d430-496f-c936-311a2112f2ab",
        "colab": {
          "base_uri": "https://localhost:8080/"
        }
      },
      "source": [
        "# https://www.analyticsvidhya.com/blog/2020/11/create-your-own-movie-movie-recommendation-system/\r\n",
        "#  We will be using an item-based collaborative filtering algorithm for our purpose.\r\n",
        "\r\n",
        "\r\n",
        "#getting the data up and running\r\n",
        "import pandas as pd\r\n",
        "import numpy as np\r\n",
        "from scipy.sparse import csr_matrix\r\n",
        "from sklearn.neighbors import NearestNeighbors\r\n",
        "import matplotlib.pyplot as plt\r\n",
        "import seaborn as sns\r\n",
        "movies = pd.read_csv(\"/content/drive/MyDrive/recomendation engine/movies.csv\")\r\n",
        "ratings = pd.read_csv(\"/content/drive/MyDrive/recomendation engine/user_ratings.csv\")\r\n",
        "print(movies.head())\r\n",
        "print(ratings.head())\r\n",
        "\r\n",
        "\r\n",
        "final_dataset = ratings.pivot(index='movieId',columns='userId',values='rating')\r\n",
        "\r\n",
        "print(final_dataset.head())"
      ],
      "execution_count": 29,
      "outputs": [
        {
          "output_type": "stream",
          "text": [
            "   movieId  ...                                       genres\n",
            "0        1  ...  Adventure|Animation|Children|Comedy|Fantasy\n",
            "1        2  ...                   Adventure|Children|Fantasy\n",
            "2        3  ...                               Comedy|Romance\n",
            "3        4  ...                         Comedy|Drama|Romance\n",
            "4        5  ...                                       Comedy\n",
            "\n",
            "[5 rows x 3 columns]\n",
            "   userId  ...                                       genres\n",
            "0       1  ...  Adventure|Animation|Children|Comedy|Fantasy\n",
            "1       5  ...  Adventure|Animation|Children|Comedy|Fantasy\n",
            "2       7  ...  Adventure|Animation|Children|Comedy|Fantasy\n",
            "3      15  ...  Adventure|Animation|Children|Comedy|Fantasy\n",
            "4      17  ...  Adventure|Animation|Children|Comedy|Fantasy\n",
            "\n",
            "[5 rows x 6 columns]\n",
            "userId   1    2    3    4    5    6    7    ...  604  605  606  607  608  609  610\n",
            "movieId                                     ...                                   \n",
            "1        4.0  NaN  NaN  NaN  4.0  NaN  4.5  ...  3.0  4.0  2.5  4.0  2.5  3.0  5.0\n",
            "2        NaN  NaN  NaN  NaN  NaN  4.0  NaN  ...  5.0  3.5  NaN  NaN  2.0  NaN  NaN\n",
            "3        4.0  NaN  NaN  NaN  NaN  5.0  NaN  ...  NaN  NaN  NaN  NaN  2.0  NaN  NaN\n",
            "4        NaN  NaN  NaN  NaN  NaN  3.0  NaN  ...  NaN  NaN  NaN  NaN  NaN  NaN  NaN\n",
            "5        NaN  NaN  NaN  NaN  NaN  5.0  NaN  ...  3.0  NaN  NaN  NaN  NaN  NaN  NaN\n",
            "\n",
            "[5 rows x 610 columns]\n"
          ],
          "name": "stdout"
        }
      ]
    },
    {
      "cell_type": "code",
      "metadata": {
        "id": "dbyQHAvGDjSc",
        "outputId": "6aac67c3-f53b-49ee-b708-372eea9d9fc8",
        "colab": {
          "base_uri": "https://localhost:8080/"
        }
      },
      "source": [
        "final_dataset.fillna(0,inplace=True)\r\n",
        "print(final_dataset.head())"
      ],
      "execution_count": 30,
      "outputs": [
        {
          "output_type": "stream",
          "text": [
            "userId   1    2    3    4    5    6    7    ...  604  605  606  607  608  609  610\n",
            "movieId                                     ...                                   \n",
            "1        4.0  0.0  0.0  0.0  4.0  0.0  4.5  ...  3.0  4.0  2.5  4.0  2.5  3.0  5.0\n",
            "2        0.0  0.0  0.0  0.0  0.0  4.0  0.0  ...  5.0  3.5  0.0  0.0  2.0  0.0  0.0\n",
            "3        4.0  0.0  0.0  0.0  0.0  5.0  0.0  ...  0.0  0.0  0.0  0.0  2.0  0.0  0.0\n",
            "4        0.0  0.0  0.0  0.0  0.0  3.0  0.0  ...  0.0  0.0  0.0  0.0  0.0  0.0  0.0\n",
            "5        0.0  0.0  0.0  0.0  0.0  5.0  0.0  ...  3.0  0.0  0.0  0.0  0.0  0.0  0.0\n",
            "\n",
            "[5 rows x 610 columns]\n"
          ],
          "name": "stdout"
        }
      ]
    },
    {
      "cell_type": "code",
      "metadata": {
        "id": "qhLmc0NxDx8L",
        "outputId": "12007223-e0f9-4b16-eacd-d10588f051b1",
        "colab": {
          "base_uri": "https://localhost:8080/"
        }
      },
      "source": [
        "no_user_voted = ratings.groupby('movieId')['rating'].agg('count')\r\n",
        "no_movies_voted = ratings.groupby('userId')['rating'].agg('count')\r\n",
        "\r\n",
        "print(no_user_voted, no_movies_voted)"
      ],
      "execution_count": 31,
      "outputs": [
        {
          "output_type": "stream",
          "text": [
            "movieId\n",
            "1         215\n",
            "2         110\n",
            "3          52\n",
            "4           7\n",
            "5          49\n",
            "         ... \n",
            "193581      1\n",
            "193583      1\n",
            "193585      1\n",
            "193587      1\n",
            "193609      1\n",
            "Name: rating, Length: 9724, dtype: int64 userId\n",
            "1       232\n",
            "2        29\n",
            "3        39\n",
            "4       216\n",
            "5        44\n",
            "       ... \n",
            "606    1115\n",
            "607     187\n",
            "608     831\n",
            "609      37\n",
            "610    1302\n",
            "Name: rating, Length: 610, dtype: int64\n"
          ],
          "name": "stdout"
        }
      ]
    },
    {
      "cell_type": "code",
      "metadata": {
        "id": "rJvnhduQD-gn",
        "outputId": "7fae0dd0-c1fd-4856-d1cf-3b441b754f62",
        "colab": {
          "base_uri": "https://localhost:8080/",
          "height": 190
        }
      },
      "source": [
        "f,ax = plt.subplots(1,1,figsize=(16,4))\r\n",
        "# ratings['rating'].plot(kind='hist')\r\n",
        "plt.scatter(no_user_voted.index,no_user_voted,color='mediumseagreen')\r\n",
        "plt.axhline(y=10,color='r')\r\n",
        "plt.xlabel('MovieId')\r\n",
        "plt.ylabel('No. of users voted')\r\n",
        "plt.show()"
      ],
      "execution_count": 32,
      "outputs": [
        {
          "output_type": "display_data",
          "data": {
            "image/png": "[encoded data removed]",
            "text/plain": [
              "<Figure size 1152x288 with 1 Axes>"
            ]
          },
          "metadata": {
            "tags": [],
            "needs_background": "light"
          }
        }
      ]
    },
    {
      "cell_type": "code",
      "metadata": {
        "id": "JGkTsdySEEtU"
      },
      "source": [
        "final_dataset = final_dataset.loc[no_user_voted[no_user_voted > 10].index,:]"
      ],
      "execution_count": 33,
      "outputs": []
    },
    {
      "cell_type": "code",
      "metadata": {
        "id": "EcfbW1rTEI0w",
        "outputId": "b9a3e0ad-aba0-4a19-b438-c0be7239695c",
        "colab": {
          "base_uri": "https://localhost:8080/",
          "height": 190
        }
      },
      "source": [
        "f,ax = plt.subplots(1,1,figsize=(16,4))\r\n",
        "plt.scatter(no_movies_voted.index,no_movies_voted,color='mediumseagreen')\r\n",
        "plt.axhline(y=50,color='r')\r\n",
        "plt.xlabel('UserId')\r\n",
        "plt.ylabel('No. of votes by user')\r\n",
        "plt.show()"
      ],
      "execution_count": 34,
      "outputs": [
        {
          "output_type": "display_data",
          "data": {
            "image/png": "[encoded data removed]",
            "text/plain": [
              "<Figure size 1152x288 with 1 Axes>"
            ]
          },
          "metadata": {
            "tags": [],
            "needs_background": "light"
          }
        }
      ]
    },
    {
      "cell_type": "code",
      "metadata": {
        "id": "0OlCbK-lESz_",
        "outputId": "14187c1d-2305-4aa4-fdda-3073c0e451d1",
        "colab": {
          "base_uri": "https://localhost:8080/"
        }
      },
      "source": [
        "final_dataset=final_dataset.loc[:,no_movies_voted[no_movies_voted > 50].index]\r\n",
        "print(final_dataset)"
      ],
      "execution_count": 35,
      "outputs": [
        {
          "output_type": "stream",
          "text": [
            "userId   1    4    6    7    10   11   15   ...  603  604  605  606  607  608  610\n",
            "movieId                                     ...                                   \n",
            "1        4.0  0.0  0.0  4.5  0.0  0.0  2.5  ...  4.0  3.0  4.0  2.5  4.0  2.5  5.0\n",
            "2        0.0  0.0  4.0  0.0  0.0  0.0  0.0  ...  0.0  5.0  3.5  0.0  0.0  2.0  0.0\n",
            "3        4.0  0.0  5.0  0.0  0.0  0.0  0.0  ...  0.0  0.0  0.0  0.0  0.0  2.0  0.0\n",
            "5        0.0  0.0  5.0  0.0  0.0  0.0  0.0  ...  0.0  3.0  0.0  0.0  0.0  0.0  0.0\n",
            "6        4.0  0.0  4.0  0.0  0.0  5.0  0.0  ...  4.0  3.0  0.0  0.0  0.0  0.0  5.0\n",
            "...      ...  ...  ...  ...  ...  ...  ...  ...  ...  ...  ...  ...  ...  ...  ...\n",
            "174055   0.0  0.0  0.0  0.0  0.0  0.0  0.0  ...  0.0  0.0  0.0  0.0  0.0  0.0  0.0\n",
            "176371   0.0  0.0  0.0  0.0  0.0  0.0  0.0  ...  0.0  0.0  0.0  0.0  0.0  0.0  0.0\n",
            "177765   0.0  0.0  0.0  0.0  0.0  0.0  0.0  ...  0.0  0.0  0.0  0.0  0.0  0.0  0.0\n",
            "179819   0.0  0.0  0.0  0.0  0.0  0.0  0.0  ...  0.0  0.0  0.0  0.0  0.0  0.0  0.0\n",
            "187593   0.0  0.0  0.0  0.0  0.0  0.0  0.0  ...  0.0  0.0  0.0  0.0  0.0  0.0  0.0\n",
            "\n",
            "[2121 rows x 378 columns]\n"
          ],
          "name": "stdout"
        }
      ]
    },
    {
      "cell_type": "markdown",
      "metadata": {
        "id": "HygHsHksEozE"
      },
      "source": [
        "**REMOIVNG SPARSITY**\r\n",
        "\r\n",
        "Our final_dataset has dimensions of 2121 * 378 where most of the values are sparse. We are using only a small dataset but for the original large dataset of movie lens which has more than 100000 features, our system may run out of computational resources when that is feed to the model. To reduce the sparsity we use the csr_matrix function from the scipy library.\r\n",
        "\r\n",
        " I’ll give an example of how it works :\r\n"
      ]
    },
    {
      "cell_type": "code",
      "metadata": {
        "id": "sVXOa7IoEvjz",
        "outputId": "c2ae18b6-e66a-4600-d0db-f250b3da5728",
        "colab": {
          "base_uri": "https://localhost:8080/"
        }
      },
      "source": [
        "sample = np.array([[0,0,3,0,0],[4,0,0,0,2],[0,0,0,0,1]])\r\n",
        "sparsity = 1.0 - ( np.count_nonzero(sample) / float(sample.size) )\r\n",
        "print(sparsity)"
      ],
      "execution_count": 36,
      "outputs": [
        {
          "output_type": "stream",
          "text": [
            "0.7333333333333334\n"
          ],
          "name": "stdout"
        }
      ]
    },
    {
      "cell_type": "code",
      "metadata": {
        "id": "rLi9LNqqE8aL",
        "outputId": "d493ca7e-a535-4def-fec5-635fe5f780b5",
        "colab": {
          "base_uri": "https://localhost:8080/"
        }
      },
      "source": [
        "csr_sample = csr_matrix(sample)\r\n",
        "print(csr_sample)"
      ],
      "execution_count": 37,
      "outputs": [
        {
          "output_type": "stream",
          "text": [
            "  (0, 2)\t3\n",
            "  (1, 0)\t4\n",
            "  (1, 4)\t2\n",
            "  (2, 4)\t1\n"
          ],
          "name": "stdout"
        }
      ]
    },
    {
      "cell_type": "markdown",
      "metadata": {
        "id": "rhUpIh6ME-3h"
      },
      "source": [
        "As you can see there is no sparse value in the csr_sample and values are assigned as rows and column index. for the 0th row and 2nd column, the value is 3."
      ]
    },
    {
      "cell_type": "markdown",
      "metadata": {
        "id": "Q91ByQwIFA3r"
      },
      "source": [
        "Applying the csr_matrix method to the dataset :"
      ]
    },
    {
      "cell_type": "code",
      "metadata": {
        "id": "ApwpkrUPFCgo"
      },
      "source": [
        "csr_data = csr_matrix(final_dataset.values)\r\n",
        "final_dataset.reset_index(inplace=True)"
      ],
      "execution_count": 38,
      "outputs": []
    },
    {
      "cell_type": "markdown",
      "metadata": {
        "id": "9bH9WeZ7FGR4"
      },
      "source": [
        "**Making the movie recommendation system model**\r\n",
        "\r\n",
        "The working principle is very simple. We first check if the movie name input is in the database and if it is we use our recommendation system to find similar movies and sort them based on their similarity distance and output only the top 10 movies with their distances from the input movie."
      ]
    },
    {
      "cell_type": "code",
      "metadata": {
        "id": "uzw2BpaHH-ip"
      },
      "source": [
        "knn = NearestNeighbors(metric='cosine', algorithm='brute', n_neighbors=20, n_jobs=-1)"
      ],
      "execution_count": null,
      "outputs": []
    },
    {
      "cell_type": "code",
      "metadata": {
        "id": "VwPnykFiH-NN",
        "outputId": "7a43c616-e5cd-4762-971d-8af4215fd9e2",
        "colab": {
          "base_uri": "https://localhost:8080/"
        }
      },
      "source": [
        "knn = NearestNeighbors(metric='cosine', algorithm='brute', n_neighbors=20, n_jobs=-1)\r\n",
        "knn.fit(csr_data)"
      ],
      "execution_count": 43,
      "outputs": [
        {
          "output_type": "execute_result",
          "data": {
            "text/plain": [
              "NearestNeighbors(algorithm='brute', leaf_size=30, metric='cosine',\n",
              "                 metric_params=None, n_jobs=-1, n_neighbors=20, p=2,\n",
              "                 radius=1.0)"
            ]
          },
          "metadata": {
            "tags": []
          },
          "execution_count": 43
        }
      ]
    },
    {
      "cell_type": "code",
      "metadata": {
        "id": "8AxxJW9tFOxM"
      },
      "source": [
        "def get_movie_recommendation(movie_name):\r\n",
        "    n_movies_to_reccomend = 10\r\n",
        "    movie_list = movies[movies['title'].str.contains(movie_name)]  \r\n",
        "    if len(movie_list):        \r\n",
        "        movie_idx= movie_list.iloc[0]['movieId']\r\n",
        "        movie_idx = final_dataset[final_dataset['movieId'] == movie_idx].index[0]\r\n",
        "        distances , indices = knn.kneighbors(csr_data[movie_idx],n_neighbors=n_movies_to_reccomend+1)    \r\n",
        "        rec_movie_indices = sorted(list(zip(indices.squeeze().tolist(),distances.squeeze().tolist())),key=lambda x: x[1])[:0:-1]\r\n",
        "        recommend_frame = []\r\n",
        "        for val in rec_movie_indices:\r\n",
        "            movie_idx = final_dataset.iloc[val[0]]['movieId']\r\n",
        "            idx = movies[movies['movieId'] == movie_idx].index\r\n",
        "            recommend_frame.append({'Title':movies.iloc[idx]['title'].values[0],'Distance':val[1]})\r\n",
        "        df = pd.DataFrame(recommend_frame,index=range(1,n_movies_to_reccomend+1))\r\n",
        "        return df\r\n",
        "    else:\r\n",
        "        return \"No movies found. Please check your input\""
      ],
      "execution_count": 44,
      "outputs": []
    },
    {
      "cell_type": "markdown",
      "metadata": {
        "id": "JYo2u-oBFSbc"
      },
      "source": [
        "**Finally, Let’s Recommend some movies!**"
      ]
    },
    {
      "cell_type": "code",
      "metadata": {
        "id": "B0EN01u-FWGD",
        "outputId": "dc1ce539-a12f-4165-ffaa-5488add19769",
        "colab": {
          "base_uri": "https://localhost:8080/",
          "height": 359
        }
      },
      "source": [
        "get_movie_recommendation('Iron Man')"
      ],
      "execution_count": 45,
      "outputs": [
        {
          "output_type": "execute_result",
          "data": {
            "text/html": [
              "<div>\n",
              "<style scoped>\n",
              "    .dataframe tbody tr th:only-of-type {\n",
              "        vertical-align: middle;\n",
              "    }\n",
              "\n",
              "    .dataframe tbody tr th {\n",
              "        vertical-align: top;\n",
              "    }\n",
              "\n",
              "    .dataframe thead th {\n",
              "        text-align: right;\n",
              "    }\n",
              "</style>\n",
              "<table border=\"1\" class=\"dataframe\">\n",
              "  <thead>\n",
              "    <tr style=\"text-align: right;\">\n",
              "      <th></th>\n",
              "      <th>Title</th>\n",
              "      <th>Distance</th>\n",
              "    </tr>\n",
              "  </thead>\n",
              "  <tbody>\n",
              "    <tr>\n",
              "      <th>1</th>\n",
              "      <td>Up (2009)</td>\n",
              "      <td>0.368857</td>\n",
              "    </tr>\n",
              "    <tr>\n",
              "      <th>2</th>\n",
              "      <td>Guardians of the Galaxy (2014)</td>\n",
              "      <td>0.368758</td>\n",
              "    </tr>\n",
              "    <tr>\n",
              "      <th>3</th>\n",
              "      <td>Watchmen (2009)</td>\n",
              "      <td>0.368558</td>\n",
              "    </tr>\n",
              "    <tr>\n",
              "      <th>4</th>\n",
              "      <td>Star Trek (2009)</td>\n",
              "      <td>0.366029</td>\n",
              "    </tr>\n",
              "    <tr>\n",
              "      <th>5</th>\n",
              "      <td>Batman Begins (2005)</td>\n",
              "      <td>0.362759</td>\n",
              "    </tr>\n",
              "    <tr>\n",
              "      <th>6</th>\n",
              "      <td>Avatar (2009)</td>\n",
              "      <td>0.310893</td>\n",
              "    </tr>\n",
              "    <tr>\n",
              "      <th>7</th>\n",
              "      <td>Iron Man 2 (2010)</td>\n",
              "      <td>0.307492</td>\n",
              "    </tr>\n",
              "    <tr>\n",
              "      <th>8</th>\n",
              "      <td>WALL·E (2008)</td>\n",
              "      <td>0.298138</td>\n",
              "    </tr>\n",
              "    <tr>\n",
              "      <th>9</th>\n",
              "      <td>Dark Knight, The (2008)</td>\n",
              "      <td>0.285835</td>\n",
              "    </tr>\n",
              "    <tr>\n",
              "      <th>10</th>\n",
              "      <td>Avengers, The (2012)</td>\n",
              "      <td>0.285319</td>\n",
              "    </tr>\n",
              "  </tbody>\n",
              "</table>\n",
              "</div>"
            ],
            "text/plain": [
              "                             Title  Distance\n",
              "1                        Up (2009)  0.368857\n",
              "2   Guardians of the Galaxy (2014)  0.368758\n",
              "3                  Watchmen (2009)  0.368558\n",
              "4                 Star Trek (2009)  0.366029\n",
              "5             Batman Begins (2005)  0.362759\n",
              "6                    Avatar (2009)  0.310893\n",
              "7                Iron Man 2 (2010)  0.307492\n",
              "8                    WALL·E (2008)  0.298138\n",
              "9          Dark Knight, The (2008)  0.285835\n",
              "10            Avengers, The (2012)  0.285319"
            ]
          },
          "metadata": {
            "tags": []
          },
          "execution_count": 45
        }
      ]
    },
    {
      "cell_type": "code",
      "metadata": {
        "colab": {
          "base_uri": "https://localhost:8080/",
          "height": 1000
        },
        "id": "wHcrSQ9QVOVF",
        "outputId": "e993db60-ebef-42c9-9b17-748fc0f82770"
      },
      "source": [
        "import pandas as pd\r\n",
        "import matplotlib.pyplot as plt\r\n",
        "import numpy as np\r\n",
        "\r\n",
        "# importing data\r\n",
        "userrating_df = pd.read_csv(\"./user_ratings.csv\")\r\n",
        "# Inspect the listening_history_df DataFrame\r\n",
        "print(userrating_df.head())\r\n",
        "\r\n",
        "# finding the most popular items\r\n",
        "print(\"finding the most popular items\")\r\n",
        "userrating_df['title'].value_counts()\r\n",
        "\r\n",
        "\r\n",
        "# Calculate the number of unique values\r\n",
        "print(userrating_df[['rating']].nunique())\r\n",
        "\r\n",
        "# Display a histogram of the values in the Rating column\r\n",
        "userrating_df['rating'].hist()\r\n",
        "plt.title(\"Historam of the values in the ratin column\")\r\n",
        "# activate this to show the plot\r\n",
        "plt.show()\r\n",
        "\r\n",
        "# Finding the most liked items\r\n",
        "print(\"Average rating for each movie\")\r\n",
        "avg_rating_df = userrating_df[[\"title\", \"rating\"]].groupby(['title']).mean()\r\n",
        "print(avg_rating_df.head())\r\n",
        "\r\n",
        "# here we note that they are not sorted, we'll sort them then\r\n",
        "sorted_avg_rating_df = avg_rating_df.sort_values(by='rating', ascending=False)\r\n",
        "print(\"Sorted\")\r\n",
        "print(sorted_avg_rating_df.head())\r\n",
        "\r\n",
        "# now we note that some movies have been sorted at first and they're not know,\r\n",
        "# a movie with one good review has a solid chance to be sorted as one of the best movies\r\n",
        "\r\n",
        "# calculating the movie frequency\r\n",
        "\r\n",
        "print(\"CALCULATIN MOVIE FREQUENCY\")\r\n",
        "movie_frequency = userrating_df[\"title\"].value_counts()\r\n",
        "print(movie_frequency)\r\n",
        "\r\n",
        "# we'll take the indexes of the frequently reviewed movies\r\n",
        "print(\"FREQUENTLY REVIEWED MOVIES: \")\r\n",
        "frequently_reviewed_movies = movie_frequency[movie_frequency > 100].index\r\n",
        "print(frequently_reviewed_movies)\r\n",
        "\r\n",
        "# taking a subset of the movies that are frequent, using the isin function\r\n",
        "frequent_movies_df = userrating_df[userrating_df[\"title\"].isin(frequently_reviewed_movies)]\r\n",
        "\r\n",
        "# this subset will be used to show the highest books ratings on average\r\n",
        "print(\"SUBSETTING...\")\r\n",
        "#frequent_movies_avgs = frequently_reviewed_movies[[\"title\", \"rating\"]].groupby('title').mean()\r\n",
        "#print(frequent_movies_avgs.sort_values(by=\"rating\", ascending=False).head())\r\n",
        "\r\n",
        "\r\n",
        "# Get the counts of occurrences of each movie title\r\n",
        "movie_popularity = userrating_df[\"title\"].value_counts()\r\n",
        "\r\n",
        "# Inspect the most common values\r\n",
        "print(movie_popularity.head().index)\r\n",
        "\r\n",
        "# Find the mean of the ratings given to each title\r\n",
        "average_rating_df = userrating_df[[\"title\", \"rating\"]].groupby('title').mean()\r\n",
        "\r\n",
        "# Order the entries by highest average rating to lowest\r\n",
        "sorted_average_ratings = average_rating_df.sort_values(\r\n",
        "    by=\"rating\", ascending=False)\r\n",
        "\r\n",
        "# Inspect the top movies\r\n",
        "print(sorted_average_ratings.head())\r\n",
        "\r\n",
        "\r\n",
        "#combining popularity and reviews \r\n",
        "# Create a list of only movies appearing > 50 times in the dataset\r\n",
        "movie_popularity = userrating_df[\"title\"].value_counts()\r\n",
        "popular_movies = movie_popularity[movie_popularity > 50].index\r\n",
        "\r\n",
        "print(popular_movies)\r\n",
        "\r\n",
        "#filtering the original userratings_df by the popular movies list to creat a dataframe\r\n",
        "# Create a list of only movies appearing > 50 times in the dataset\r\n",
        "movie_popularity = userrating_df[\"title\"].value_counts()\r\n",
        "popular_movies = movie_popularity[movie_popularity > 50].index\r\n",
        "\r\n",
        "# Use this popular_movies list to filter the original DataFrame\r\n",
        "popular_movies_rankings = userrating_df[userrating_df[\"title\"].isin(popular_movies)]\r\n",
        "\r\n",
        "# Inspect the movies watched over 50 times\r\n",
        "print(popular_movies_rankings)\r\n",
        "\r\n",
        "\r\n",
        "#combining popularity and reviews \r\n",
        "# Create a list of only movies appearing > 50 times in the dataset\r\n",
        "movie_popularity = userrating_df[\"title\"].value_counts()\r\n",
        "popular_movies = movie_popularity[movie_popularity > 50].index\r\n",
        "\r\n",
        "# Use this popular_movies list to filter the original DataFrame\r\n",
        "popular_movies_rankings =  userrating_df[userrating_df[\"title\"].isin(popular_movies)]\r\n",
        "\r\n",
        "# Find the average rating given to these frequently watched films\r\n",
        "popular_movies_average_rankings = popular_movies_rankings[[\"title\", \"rating\"]].groupby('title').head()\r\n",
        "print(popular_movies_average_rankings.sort_values(by=\"rating\", ascending=False).head())\r\n",
        "\r\n",
        "\r\n",
        "#making sugestion by finding the similar\r\n",
        "#i mean movies watched by the same person\r\n",
        "\r\n",
        "\r\n",
        "#in this section  we'll study this part \r\n",
        "#for example we'll find the most common pairs and we'll sort them\r\n",
        "print(\"FIDNING PAIRS\")\r\n",
        "\r\n",
        "from itertools import permutations\r\n",
        "\r\n",
        "#defining the function that'll make the pairs for us, commenting the function after it \r\n",
        "\r\n",
        "def create_pairs(x):\r\n",
        "    pairs = pd.DataFrame(list(permutations(x.values, 2 )), columns=['movie_a', 'movie_b'] )\r\n",
        "\r\n",
        "    return pairs\r\n",
        "\r\n",
        "\"\"\"\r\n",
        "permutations(list, length_of_permutations) generates iterable object containing all permutations\r\n",
        "list() converts this object to a usable list\r\n",
        "pd.dataFrame() converts the list to a DataFrame containing the columns movie_a and movie_b\r\n",
        "\"\"\"\r\n",
        "\r\n",
        "#applying the function the data\r\n",
        "movie_pairs = userrating_df.groupby(\"userId\")['title'].apply(create_pairs)\r\n",
        "#cleaning up the results\r\n",
        "movie_pairs = movie_pairs.reset_index(drop = True)\r\n",
        "print(movie_pairs.head())\r\n",
        "\r\n",
        "# counting the pairings\r\n",
        "pair_counts = movie_pairs.groupby(['movie_a', 'movie_b']).size()\r\n",
        "pair_counts_df = pair_counts.to_frame(name= 'size').reset_index()\r\n",
        "print(\"PAIR COUNTS DF\")\r\n",
        "print(pair_counts_df.head())\r\n",
        "\r\n",
        "#loking up recomendataions\r\n",
        "pair_counts_sorted = pair_counts_df.sort_values('size', ascending = False)\r\n",
        "\r\n",
        "pair_counts_sorted[pair_counts_sorted['movie_a'] == 'Toy Story (1995)']\r\n",
        "\r\n",
        "\r\n",
        "\r\n",
        "# Calculate how often each item in movies_a occurs with the items in movies_b\r\n",
        "combination_counts = movie_pairs.groupby(['movie_a', 'movie_b']).size()\r\n",
        "\r\n",
        "# Inspect the results\r\n",
        "print(combination_counts.head())\r\n",
        "\r\n",
        "# Calculate how often each item in movie_a occurs with the items in movie_b\r\n",
        "combination_counts = movie_pairs.groupby(['movie_a', 'movie_b']).size()\r\n",
        "\r\n",
        "# Convert the results to a DataFrame and reset the index\r\n",
        "combination_counts_df = combination_counts.to_frame(name='size').reset_index()\r\n",
        "print(combination_counts_df.head())\r\n",
        "\r\n",
        "\r\n",
        "\r\n",
        "#making the first movie recomendations \r\n",
        "\r\n",
        "\r\n",
        "# Sort the counts from highest to lowest\r\n",
        "combination_counts_df.sort_values('size', ascending=False, inplace=True)\r\n",
        "\r\n",
        "# Find the movies most frequently watched by people who watched Thor\r\n",
        "thor_df = combination_counts_df[combination_counts_df['movie_a'] == 'Heat (1995)']\r\n",
        "\r\n",
        "# Plot the results\r\n",
        "print(\"BEST MATCHES\", thor_df.head())\r\n",
        "thor_df.head().plot.bar(x=\"movie_b\")\r\n",
        "plt.show()"
      ],
      "execution_count": null,
      "outputs": [
        {
          "output_type": "stream",
          "text": [
            "   userId  ...                                       genres\n",
            "0       1  ...  Adventure|Animation|Children|Comedy|Fantasy\n",
            "1       5  ...  Adventure|Animation|Children|Comedy|Fantasy\n",
            "2       7  ...  Adventure|Animation|Children|Comedy|Fantasy\n",
            "3      15  ...  Adventure|Animation|Children|Comedy|Fantasy\n",
            "4      17  ...  Adventure|Animation|Children|Comedy|Fantasy\n",
            "\n",
            "[5 rows x 6 columns]\n",
            "finding the most popular items\n",
            "rating    10\n",
            "dtype: int64\n"
          ],
          "name": "stdout"
        },
        {
          "output_type": "display_data",
          "data": {
            "image/png": "[encoded data removed]",
            "text/plain": [
              "<Figure size 432x288 with 1 Axes>"
            ]
          },
          "metadata": {
            "tags": [],
            "needs_background": "light"
          }
        },
        {
          "output_type": "stream",
          "text": [
            "Average rating for each movie\n",
            "                                               rating\n",
            "title                                                \n",
            "'Tis the Season for Love (2015)              1.500000\n",
            "'burbs, The (1989)                           3.176471\n",
            "(500) Days of Summer (2009)                  3.666667\n",
            "00 Schneider - Jagd auf Nihil Baxter (1994)  4.500000\n",
            "10 Cent Pistol (2015)                        1.250000\n",
            "Sorted\n",
            "                                                    rating\n",
            "title                                                     \n",
            "I'm the One That I Want (2000)                        5.00\n",
            "Alien Contamination (1980)                            5.00\n",
            "Galaxy of Terror (Quest) (1981)                       5.00\n",
            "The Jinx: The Life and Deaths of Robert Durst (...    5.00\n",
            "Sherlock - A Study in Pink (2010)                     4.75\n",
            "CALCULATIN MOVIE FREQUENCY\n",
            "Forrest Gump (1994)                 329\n",
            "Shawshank Redemption, The (1994)    317\n",
            "Pulp Fiction (1994)                 307\n",
            "Silence of the Lambs, The (1991)    279\n",
            "Matrix, The (1999)                  278\n",
            "                                   ... \n",
            "Barefoot Executive, The (1971)        1\n",
            "Animal Factory (2000)                 1\n",
            "Pretty One, The (2013)                1\n",
            "Lammbock (2001)                       1\n",
            "Three Wishes (1995)                   1\n",
            "Name: title, Length: 2326, dtype: int64\n",
            "FREQUENTLY REVIEWED MOVIES: \n",
            "Index(['Forrest Gump (1994)', 'Shawshank Redemption, The (1994)',\n",
            "       'Pulp Fiction (1994)', 'Silence of the Lambs, The (1991)',\n",
            "       'Matrix, The (1999)', 'Star Wars: Episode IV - A New Hope (1977)',\n",
            "       'Jurassic Park (1993)', 'Braveheart (1995)',\n",
            "       'Terminator 2: Judgment Day (1991)', 'Schindler's List (1993)',\n",
            "       ...\n",
            "       'Four Weddings and a Funeral (1994)', 'American Pie (1999)',\n",
            "       'Crimson Tide (1995)', 'Harry Potter and the Chamber of Secrets (2002)',\n",
            "       'Heat (1995)', 'Full Metal Jacket (1987)', 'Trainspotting (1996)',\n",
            "       'Firm, The (1993)', 'Cliffhanger (1993)', 'Outbreak (1995)'],\n",
            "      dtype='object', length=134)\n",
            "SUBSETTING...\n",
            "Index(['Forrest Gump (1994)', 'Shawshank Redemption, The (1994)',\n",
            "       'Pulp Fiction (1994)', 'Silence of the Lambs, The (1991)',\n",
            "       'Matrix, The (1999)'],\n",
            "      dtype='object')\n",
            "                                                    rating\n",
            "title                                                     \n",
            "I'm the One That I Want (2000)                        5.00\n",
            "Alien Contamination (1980)                            5.00\n",
            "Galaxy of Terror (Quest) (1981)                       5.00\n",
            "The Jinx: The Life and Deaths of Robert Durst (...    5.00\n",
            "Sherlock - A Study in Pink (2010)                     4.75\n",
            "Index(['Forrest Gump (1994)', 'Shawshank Redemption, The (1994)',\n",
            "       'Pulp Fiction (1994)', 'Silence of the Lambs, The (1991)',\n",
            "       'Matrix, The (1999)', 'Star Wars: Episode IV - A New Hope (1977)',\n",
            "       'Jurassic Park (1993)', 'Braveheart (1995)',\n",
            "       'Terminator 2: Judgment Day (1991)', 'Schindler's List (1993)',\n",
            "       ...\n",
            "       'Million Dollar Baby (2004)', 'Chasing Amy (1997)',\n",
            "       'Donnie Brasco (1997)', 'Mulholland Drive (2001)', 'Blow (2001)',\n",
            "       'Army of Darkness (1993)', 'Splash (1984)', 'Training Day (2001)',\n",
            "       'The Devil's Advocate (1997)', 'Bad Boys (1995)'],\n",
            "      dtype='object', length=429)\n",
            "       userId  ...                                       genres\n",
            "0           1  ...  Adventure|Animation|Children|Comedy|Fantasy\n",
            "1           5  ...  Adventure|Animation|Children|Comedy|Fantasy\n",
            "2           7  ...  Adventure|Animation|Children|Comedy|Fantasy\n",
            "3          15  ...  Adventure|Animation|Children|Comedy|Fantasy\n",
            "4          17  ...  Adventure|Animation|Children|Comedy|Fantasy\n",
            "...       ...  ...                                          ...\n",
            "73434     590  ...    Action|Adventure|Crime|Drama|Thriller|War\n",
            "73435     596  ...    Action|Adventure|Crime|Drama|Thriller|War\n",
            "73436     600  ...    Action|Adventure|Crime|Drama|Thriller|War\n",
            "73437     606  ...    Action|Adventure|Crime|Drama|Thriller|War\n",
            "73438     610  ...    Action|Adventure|Crime|Drama|Thriller|War\n",
            "\n",
            "[40229 rows x 6 columns]\n",
            "                           title  rating\n",
            "12519  Planet of the Apes (1968)     5.0\n",
            "8322      Terminator, The (1984)     5.0\n",
            "8727   Back to the Future (1985)     5.0\n",
            "8726   Back to the Future (1985)     5.0\n",
            "8725   Back to the Future (1985)     5.0\n",
            "FIDNING PAIRS\n",
            "            movie_a                      movie_b\n",
            "0  Toy Story (1995)      Grumpier Old Men (1995)\n",
            "1  Toy Story (1995)                  Heat (1995)\n",
            "2  Toy Story (1995)  Seven (a.k.a. Se7en) (1995)\n",
            "3  Toy Story (1995)   Usual Suspects, The (1995)\n",
            "4  Toy Story (1995)   From Dusk Till Dawn (1996)\n",
            "PAIR COUNTS DF\n",
            "                           movie_a                  movie_b  size\n",
            "0  'Tis the Season for Love (2015)    10 Cent Pistol (2015)     1\n",
            "1  'Tis the Season for Love (2015)  12 Years a Slave (2013)     1\n",
            "2  'Tis the Season for Love (2015)            2 Guns (2013)     1\n",
            "3  'Tis the Season for Love (2015)              2012 (2009)     1\n",
            "4  'Tis the Season for Love (2015)    21 Jump Street (2012)     1\n",
            "movie_a                          movie_b                \n",
            "'Tis the Season for Love (2015)  10 Cent Pistol (2015)      1\n",
            "                                 12 Years a Slave (2013)    1\n",
            "                                 2 Guns (2013)              1\n",
            "                                 2012 (2009)                1\n",
            "                                 21 Jump Street (2012)      1\n",
            "dtype: int64\n",
            "                           movie_a                  movie_b  size\n",
            "0  'Tis the Season for Love (2015)    10 Cent Pistol (2015)     1\n",
            "1  'Tis the Season for Love (2015)  12 Years a Slave (2013)     1\n",
            "2  'Tis the Season for Love (2015)            2 Guns (2013)     1\n",
            "3  'Tis the Season for Love (2015)              2012 (2009)     1\n",
            "4  'Tis the Season for Love (2015)    21 Jump Street (2012)     1\n",
            "BEST MATCHES              movie_a                                    movie_b  size\n",
            "1572763  Heat (1995)                        Pulp Fiction (1994)    78\n",
            "1571935  Heat (1995)                        Forrest Gump (1994)    76\n",
            "1572963  Heat (1995)           Silence of the Lambs, The (1991)    74\n",
            "1572945  Heat (1995)           Shawshank Redemption, The (1994)    71\n",
            "1573259  Heat (1995)  Twelve Monkeys (a.k.a. 12 Monkeys) (1995)    71\n"
          ],
          "name": "stdout"
        },
        {
          "output_type": "display_data",
          "data": {
            "image/png": "[encoded data removed]",
            "text/plain": [
              "<Figure size 432x288 with 1 Axes>"
            ]
          },
          "metadata": {
            "tags": [],
            "needs_background": "light"
          }
        }
      ]
    },
    {
      "cell_type": "markdown",
      "metadata": {
        "id": "TFe4y4BMaxzE"
      },
      "source": [
        ""
      ]
    }
  ]
}